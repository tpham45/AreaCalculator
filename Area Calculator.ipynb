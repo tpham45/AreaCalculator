{
 "cells": [
  {
   "cell_type": "code",
   "execution_count": 2,
   "id": "146c7e4c",
   "metadata": {},
   "outputs": [
    {
     "name": "stdout",
     "output_type": "stream",
     "text": [
      "Do you want to start the calculation? (y/n): sdfs\n",
      "Invalid answer! Try again with y or n\n",
      "Do you want to start the calculation? (y/n): y\n",
      "Enter your room type: (For example: Living room, Kitchen, etc..)sdfs\n",
      "Enter the length in feet: 3\n",
      "Enter the width in feet: -4\n",
      "Error! Try again with a positive number\n",
      "Do you want to continue adding more measurements? (y/n): y\n",
      "Enter your room type: (For example: Living room, Kitchen, etc..)fwe\n",
      "Enter the length in feet: 4\n",
      "Enter the width in feet: 5\n",
      "Total area of: fwe                                 20.00 square feet\n",
      "Do you want to continue adding more measurements? (y/n): n\n",
      "Total area of the house:            20.00 square feet\n"
     ]
    }
   ],
   "source": [
    "def sqrFootage(length, width):\n",
    "    return length * width\n",
    "\n",
    "def display(descriptions, sqrFootage):\n",
    "    print(f'Total area of: {descriptions:<20} {sqrFootage:>20.2f} square feet')\n",
    "\n",
    "totalArea = 0\n",
    "\n",
    "userInput = input(\"Do you want to start the calculation? (y/n): \").lower()\n",
    "\n",
    "while userInput not in ['y', 'n']:\n",
    "    print(\"Invalid answer! Try again with y or n\")\n",
    "    userInput = input(\"Do you want to start the calculation? (y/n): \").lower()\n",
    "\n",
    "if userInput == \"n\":\n",
    "    print(\"Exit successfully!\")\n",
    "else:\n",
    "    try:\n",
    "        while True:\n",
    "            descriptions = input(\"Enter your room type: (For example: Living room, Kitchen, etc..)\")\n",
    "            length = float(input(\"Enter the length in feet: \"))\n",
    "            width = float(input(\"Enter the width in feet: \"))\n",
    "\n",
    "            if width < 0 or length < 0:\n",
    "                print(\"Error! Try again with a positive number\")\n",
    "            else:\n",
    "                totalArea += sqrFootage(length, width)\n",
    "                display(descriptions, sqrFootage(length, width))\n",
    "\n",
    "            conditionInput = input(\"Do you want to continue adding more measurements? (y/n): \").lower()\n",
    "            while conditionInput not in ['y', 'n']:\n",
    "                print(\"Invalid input! Enter a valid answer: y or n\")\n",
    "                conditionInput = input(\"Do you want to continue adding more measurements? (y/n): \").lower()\n",
    "\n",
    "            if conditionInput == \"n\":\n",
    "                print(f'Total area of the house: {totalArea:>16.2f} square feet')\n",
    "                break\n",
    "\n",
    "    except:\n",
    "        print(\"Value has to be a number\")\n"
   ]
  },
  {
   "cell_type": "markdown",
   "id": "a4d7aed3",
   "metadata": {},
   "source": [
    "##### "
   ]
  },
  {
   "cell_type": "code",
   "execution_count": null,
   "id": "2cc6ec50",
   "metadata": {},
   "outputs": [],
   "source": []
  },
  {
   "cell_type": "code",
   "execution_count": null,
   "id": "a2c50b2d",
   "metadata": {},
   "outputs": [],
   "source": []
  },
  {
   "cell_type": "code",
   "execution_count": null,
   "id": "687b2a39",
   "metadata": {},
   "outputs": [],
   "source": []
  },
  {
   "cell_type": "code",
   "execution_count": null,
   "id": "a4650d3c",
   "metadata": {},
   "outputs": [],
   "source": []
  }
 ],
 "metadata": {
  "kernelspec": {
   "display_name": "Python 3 (ipykernel)",
   "language": "python",
   "name": "python3"
  },
  "language_info": {
   "codemirror_mode": {
    "name": "ipython",
    "version": 3
   },
   "file_extension": ".py",
   "mimetype": "text/x-python",
   "name": "python",
   "nbconvert_exporter": "python",
   "pygments_lexer": "ipython3",
   "version": "3.9.12"
  }
 },
 "nbformat": 4,
 "nbformat_minor": 5
}
